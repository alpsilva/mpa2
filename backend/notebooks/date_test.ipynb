{
 "cells": [
  {
   "cell_type": "code",
   "execution_count": 72,
   "metadata": {},
   "outputs": [],
   "source": [
    "import pandas as pd\n",
    "import numpy as np\n",
    "import pm4py\n",
    "\n",
    "from datetime import datetime, timedelta"
   ]
  },
  {
   "cell_type": "code",
   "execution_count": 73,
   "metadata": {},
   "outputs": [
    {
     "data": {
      "text/html": [
       "<div>\n",
       "<style scoped>\n",
       "    .dataframe tbody tr th:only-of-type {\n",
       "        vertical-align: middle;\n",
       "    }\n",
       "\n",
       "    .dataframe tbody tr th {\n",
       "        vertical-align: top;\n",
       "    }\n",
       "\n",
       "    .dataframe thead th {\n",
       "        text-align: right;\n",
       "    }\n",
       "</style>\n",
       "<table border=\"1\" class=\"dataframe\">\n",
       "  <thead>\n",
       "    <tr style=\"text-align: right;\">\n",
       "      <th></th>\n",
       "      <th>tarefa</th>\n",
       "      <th>dt_inicio</th>\n",
       "      <th>demanda_id</th>\n",
       "      <th>cliente</th>\n",
       "      <th>tp_demanda</th>\n",
       "      <th>dt_fim</th>\n",
       "    </tr>\n",
       "  </thead>\n",
       "  <tbody>\n",
       "    <tr>\n",
       "      <th>0</th>\n",
       "      <td>Estimar_Tamanho</td>\n",
       "      <td>2021-04-26 18:06:40</td>\n",
       "      <td>261</td>\n",
       "      <td>cliente1</td>\n",
       "      <td>evolutiva</td>\n",
       "      <td>2021-04-28 12:10:06</td>\n",
       "    </tr>\n",
       "    <tr>\n",
       "      <th>1</th>\n",
       "      <td>Validar_Requisitos</td>\n",
       "      <td>2021-04-26 18:11:42</td>\n",
       "      <td>261</td>\n",
       "      <td>cliente1</td>\n",
       "      <td>evolutiva</td>\n",
       "      <td>2021-04-28 01:56:57</td>\n",
       "    </tr>\n",
       "    <tr>\n",
       "      <th>2</th>\n",
       "      <td>Projetar_Arquitetura</td>\n",
       "      <td>2021-04-26 18:16:45</td>\n",
       "      <td>261</td>\n",
       "      <td>cliente1</td>\n",
       "      <td>evolutiva</td>\n",
       "      <td>2021-04-27 17:33:12</td>\n",
       "    </tr>\n",
       "    <tr>\n",
       "      <th>3</th>\n",
       "      <td>Projetar_Modelo_Dados</td>\n",
       "      <td>2021-04-26 18:21:46</td>\n",
       "      <td>261</td>\n",
       "      <td>cliente1</td>\n",
       "      <td>evolutiva</td>\n",
       "      <td>2021-04-30 13:58:17</td>\n",
       "    </tr>\n",
       "    <tr>\n",
       "      <th>4</th>\n",
       "      <td>Fisicalizar_Modelo_Dados</td>\n",
       "      <td>2021-04-26 18:26:47</td>\n",
       "      <td>261</td>\n",
       "      <td>cliente1</td>\n",
       "      <td>evolutiva</td>\n",
       "      <td>2021-04-30 14:33:04</td>\n",
       "    </tr>\n",
       "  </tbody>\n",
       "</table>\n",
       "</div>"
      ],
      "text/plain": [
       "                     tarefa            dt_inicio  demanda_id   cliente  \\\n",
       "0           Estimar_Tamanho  2021-04-26 18:06:40         261  cliente1   \n",
       "1        Validar_Requisitos  2021-04-26 18:11:42         261  cliente1   \n",
       "2      Projetar_Arquitetura  2021-04-26 18:16:45         261  cliente1   \n",
       "3     Projetar_Modelo_Dados  2021-04-26 18:21:46         261  cliente1   \n",
       "4  Fisicalizar_Modelo_Dados  2021-04-26 18:26:47         261  cliente1   \n",
       "\n",
       "  tp_demanda               dt_fim  \n",
       "0  evolutiva  2021-04-28 12:10:06  \n",
       "1  evolutiva  2021-04-28 01:56:57  \n",
       "2  evolutiva  2021-04-27 17:33:12  \n",
       "3  evolutiva  2021-04-30 13:58:17  \n",
       "4  evolutiva  2021-04-30 14:33:04  "
      ]
     },
     "execution_count": 73,
     "metadata": {},
     "output_type": "execute_result"
    }
   ],
   "source": [
    "log_file_path = \"./log_2_geral_datas_distribuidas.csv\"\n",
    "\n",
    "dates = [\n",
    "    \"dt_inicio\",\n",
    "    \"dt_fim\"\n",
    "]\n",
    "\n",
    "df = pd.read_csv(log_file_path, encoding = \"utf-8\")\n",
    "df.head()"
   ]
  },
  {
   "cell_type": "code",
   "execution_count": 74,
   "metadata": {},
   "outputs": [
    {
     "data": {
      "text/plain": [
       "tarefa        object\n",
       "dt_inicio     object\n",
       "demanda_id     int64\n",
       "cliente       object\n",
       "tp_demanda    object\n",
       "dt_fim        object\n",
       "dtype: object"
      ]
     },
     "execution_count": 74,
     "metadata": {},
     "output_type": "execute_result"
    }
   ],
   "source": [
    "df.dtypes"
   ]
  },
  {
   "cell_type": "code",
   "execution_count": 75,
   "metadata": {},
   "outputs": [
    {
     "data": {
      "text/plain": [
       "2934"
      ]
     },
     "execution_count": 75,
     "metadata": {},
     "output_type": "execute_result"
    }
   ],
   "source": [
    "error_df = df[df['dt_inicio'] > df['dt_fim']]\n",
    "len(error_df.index)"
   ]
  },
  {
   "cell_type": "code",
   "execution_count": 76,
   "metadata": {},
   "outputs": [],
   "source": [
    "df.loc[df['dt_inicio'] > df['dt_fim'], ['dt_inicio', 'dt_fim']] = (\n",
    "    df.loc[df['dt_inicio'] > df['dt_fim'], ['dt_fim', 'dt_inicio']].values\n",
    ")"
   ]
  },
  {
   "cell_type": "code",
   "execution_count": 77,
   "metadata": {},
   "outputs": [],
   "source": [
    "df[dates] = df[dates].apply(pd.to_datetime)"
   ]
  },
  {
   "cell_type": "code",
   "execution_count": 78,
   "metadata": {},
   "outputs": [
    {
     "data": {
      "text/plain": [
       "0"
      ]
     },
     "execution_count": 78,
     "metadata": {},
     "output_type": "execute_result"
    }
   ],
   "source": [
    "error_df2 = df[df['dt_inicio'] > df['dt_fim']]\n",
    "len(error_df2.index)"
   ]
  },
  {
   "cell_type": "code",
   "execution_count": 79,
   "metadata": {},
   "outputs": [
    {
     "data": {
      "text/html": [
       "<div>\n",
       "<style scoped>\n",
       "    .dataframe tbody tr th:only-of-type {\n",
       "        vertical-align: middle;\n",
       "    }\n",
       "\n",
       "    .dataframe tbody tr th {\n",
       "        vertical-align: top;\n",
       "    }\n",
       "\n",
       "    .dataframe thead th {\n",
       "        text-align: right;\n",
       "    }\n",
       "</style>\n",
       "<table border=\"1\" class=\"dataframe\">\n",
       "  <thead>\n",
       "    <tr style=\"text-align: right;\">\n",
       "      <th></th>\n",
       "      <th>tarefa</th>\n",
       "      <th>dt_inicio</th>\n",
       "      <th>demanda_id</th>\n",
       "      <th>cliente</th>\n",
       "      <th>tp_demanda</th>\n",
       "      <th>dt_fim</th>\n",
       "    </tr>\n",
       "  </thead>\n",
       "  <tbody>\n",
       "    <tr>\n",
       "      <th>0</th>\n",
       "      <td>Estimar_Tamanho</td>\n",
       "      <td>2021-04-26 18:06:40</td>\n",
       "      <td>261</td>\n",
       "      <td>cliente1</td>\n",
       "      <td>evolutiva</td>\n",
       "      <td>2021-04-28 12:10:06</td>\n",
       "    </tr>\n",
       "    <tr>\n",
       "      <th>1</th>\n",
       "      <td>Validar_Requisitos</td>\n",
       "      <td>2021-04-26 18:11:42</td>\n",
       "      <td>261</td>\n",
       "      <td>cliente1</td>\n",
       "      <td>evolutiva</td>\n",
       "      <td>2021-04-28 01:56:57</td>\n",
       "    </tr>\n",
       "    <tr>\n",
       "      <th>2</th>\n",
       "      <td>Projetar_Arquitetura</td>\n",
       "      <td>2021-04-26 18:16:45</td>\n",
       "      <td>261</td>\n",
       "      <td>cliente1</td>\n",
       "      <td>evolutiva</td>\n",
       "      <td>2021-04-27 17:33:12</td>\n",
       "    </tr>\n",
       "    <tr>\n",
       "      <th>3</th>\n",
       "      <td>Projetar_Modelo_Dados</td>\n",
       "      <td>2021-04-26 18:21:46</td>\n",
       "      <td>261</td>\n",
       "      <td>cliente1</td>\n",
       "      <td>evolutiva</td>\n",
       "      <td>2021-04-30 13:58:17</td>\n",
       "    </tr>\n",
       "    <tr>\n",
       "      <th>4</th>\n",
       "      <td>Fisicalizar_Modelo_Dados</td>\n",
       "      <td>2021-04-26 18:26:47</td>\n",
       "      <td>261</td>\n",
       "      <td>cliente1</td>\n",
       "      <td>evolutiva</td>\n",
       "      <td>2021-04-30 14:33:04</td>\n",
       "    </tr>\n",
       "  </tbody>\n",
       "</table>\n",
       "</div>"
      ],
      "text/plain": [
       "                     tarefa           dt_inicio  demanda_id   cliente  \\\n",
       "0           Estimar_Tamanho 2021-04-26 18:06:40         261  cliente1   \n",
       "1        Validar_Requisitos 2021-04-26 18:11:42         261  cliente1   \n",
       "2      Projetar_Arquitetura 2021-04-26 18:16:45         261  cliente1   \n",
       "3     Projetar_Modelo_Dados 2021-04-26 18:21:46         261  cliente1   \n",
       "4  Fisicalizar_Modelo_Dados 2021-04-26 18:26:47         261  cliente1   \n",
       "\n",
       "  tp_demanda              dt_fim  \n",
       "0  evolutiva 2021-04-28 12:10:06  \n",
       "1  evolutiva 2021-04-28 01:56:57  \n",
       "2  evolutiva 2021-04-27 17:33:12  \n",
       "3  evolutiva 2021-04-30 13:58:17  \n",
       "4  evolutiva 2021-04-30 14:33:04  "
      ]
     },
     "execution_count": 79,
     "metadata": {},
     "output_type": "execute_result"
    }
   ],
   "source": [
    "df.head()"
   ]
  },
  {
   "cell_type": "code",
   "execution_count": 80,
   "metadata": {},
   "outputs": [
    {
     "data": {
      "text/html": [
       "<div>\n",
       "<style scoped>\n",
       "    .dataframe tbody tr th:only-of-type {\n",
       "        vertical-align: middle;\n",
       "    }\n",
       "\n",
       "    .dataframe tbody tr th {\n",
       "        vertical-align: top;\n",
       "    }\n",
       "\n",
       "    .dataframe thead th {\n",
       "        text-align: right;\n",
       "    }\n",
       "</style>\n",
       "<table border=\"1\" class=\"dataframe\">\n",
       "  <thead>\n",
       "    <tr style=\"text-align: right;\">\n",
       "      <th></th>\n",
       "      <th>tarefa</th>\n",
       "      <th>dt_inicio</th>\n",
       "      <th>demanda_id</th>\n",
       "      <th>cliente</th>\n",
       "      <th>tp_demanda</th>\n",
       "      <th>dt_fim</th>\n",
       "    </tr>\n",
       "  </thead>\n",
       "  <tbody>\n",
       "    <tr>\n",
       "      <th>0</th>\n",
       "      <td>Estimar_Tamanho</td>\n",
       "      <td>2021-04-26 18:06:40</td>\n",
       "      <td>261</td>\n",
       "      <td>cliente1</td>\n",
       "      <td>evolutiva</td>\n",
       "      <td>2021-04-28 12:10:06</td>\n",
       "    </tr>\n",
       "    <tr>\n",
       "      <th>1</th>\n",
       "      <td>Validar_Requisitos</td>\n",
       "      <td>2021-04-26 18:11:42</td>\n",
       "      <td>261</td>\n",
       "      <td>cliente1</td>\n",
       "      <td>evolutiva</td>\n",
       "      <td>2021-04-28 01:56:57</td>\n",
       "    </tr>\n",
       "    <tr>\n",
       "      <th>2</th>\n",
       "      <td>Projetar_Arquitetura</td>\n",
       "      <td>2021-04-26 18:16:45</td>\n",
       "      <td>261</td>\n",
       "      <td>cliente1</td>\n",
       "      <td>evolutiva</td>\n",
       "      <td>2021-04-27 17:33:12</td>\n",
       "    </tr>\n",
       "    <tr>\n",
       "      <th>3</th>\n",
       "      <td>Projetar_Modelo_Dados</td>\n",
       "      <td>2021-04-26 18:21:46</td>\n",
       "      <td>261</td>\n",
       "      <td>cliente1</td>\n",
       "      <td>evolutiva</td>\n",
       "      <td>2021-04-30 13:58:17</td>\n",
       "    </tr>\n",
       "    <tr>\n",
       "      <th>4</th>\n",
       "      <td>Fisicalizar_Modelo_Dados</td>\n",
       "      <td>2021-04-26 18:26:47</td>\n",
       "      <td>261</td>\n",
       "      <td>cliente1</td>\n",
       "      <td>evolutiva</td>\n",
       "      <td>2021-04-30 14:33:04</td>\n",
       "    </tr>\n",
       "  </tbody>\n",
       "</table>\n",
       "</div>"
      ],
      "text/plain": [
       "                     tarefa           dt_inicio  demanda_id   cliente  \\\n",
       "0           Estimar_Tamanho 2021-04-26 18:06:40         261  cliente1   \n",
       "1        Validar_Requisitos 2021-04-26 18:11:42         261  cliente1   \n",
       "2      Projetar_Arquitetura 2021-04-26 18:16:45         261  cliente1   \n",
       "3     Projetar_Modelo_Dados 2021-04-26 18:21:46         261  cliente1   \n",
       "4  Fisicalizar_Modelo_Dados 2021-04-26 18:26:47         261  cliente1   \n",
       "\n",
       "  tp_demanda              dt_fim  \n",
       "0  evolutiva 2021-04-28 12:10:06  \n",
       "1  evolutiva 2021-04-28 01:56:57  \n",
       "2  evolutiva 2021-04-27 17:33:12  \n",
       "3  evolutiva 2021-04-30 13:58:17  \n",
       "4  evolutiva 2021-04-30 14:33:04  "
      ]
     },
     "execution_count": 80,
     "metadata": {},
     "output_type": "execute_result"
    }
   ],
   "source": [
    "df.reset_index()\n",
    "df.head()"
   ]
  },
  {
   "cell_type": "code",
   "execution_count": 81,
   "metadata": {},
   "outputs": [],
   "source": [
    "df.to_csv(log_file_path, sep=',', index=False)"
   ]
  }
 ],
 "metadata": {
  "kernelspec": {
   "display_name": "Python 3.10.6 64-bit",
   "language": "python",
   "name": "python3"
  },
  "language_info": {
   "codemirror_mode": {
    "name": "ipython",
    "version": 3
   },
   "file_extension": ".py",
   "mimetype": "text/x-python",
   "name": "python",
   "nbconvert_exporter": "python",
   "pygments_lexer": "ipython3",
   "version": "3.10.6"
  },
  "orig_nbformat": 4,
  "vscode": {
   "interpreter": {
    "hash": "916dbcbb3f70747c44a77c7bcd40155683ae19c65e1c03b4aa3499c5328201f1"
   }
  }
 },
 "nbformat": 4,
 "nbformat_minor": 2
}
